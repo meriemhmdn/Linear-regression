{
 "cells": [
  {
   "cell_type": "code",
   "execution_count": 1,
   "id": "8f143f5a",
   "metadata": {},
   "outputs": [],
   "source": [
    "import numpy as np\n",
    "from sklearn.datasets import make_regression\n",
    "import matplotlib.pyplot as plt"
   ]
  },
  {
   "cell_type": "markdown",
   "id": "efa4c6dc",
   "metadata": {},
   "source": [
    "# 1.DataSet"
   ]
  },
  {
   "cell_type": "code",
   "execution_count": 2,
   "id": "d1fe3f47",
   "metadata": {},
   "outputs": [],
   "source": [
    "x, y = make_regression(n_samples = 100, n_features = 1, noise = 10)"
   ]
  },
  {
   "cell_type": "code",
   "execution_count": 3,
   "id": "3fe04000",
   "metadata": {},
   "outputs": [
    {
     "data": {
      "text/plain": [
       "<matplotlib.collections.PathCollection at 0x7ff0dda82f40>"
      ]
     },
     "execution_count": 3,
     "metadata": {},
     "output_type": "execute_result"
    },
    {
     "data": {
      "image/png": "[encoded data removed]",
      "text/plain": [
       "<Figure size 432x288 with 1 Axes>"
      ]
     },
     "metadata": {
      "needs_background": "light"
     },
     "output_type": "display_data"
    }
   ],
   "source": [
    "plt.scatter(x, y)"
   ]
  },
  {
   "cell_type": "code",
   "execution_count": 5,
   "id": "75fbdec4",
   "metadata": {},
   "outputs": [
    {
     "name": "stdout",
     "output_type": "stream",
     "text": [
      "(100, 1)\n",
      "(100, 1)\n"
     ]
    }
   ],
   "source": [
    "print(x.shape)\n",
    "'''\n",
    "on doit redimensionner le vecteur y car quand on utilise la \n",
    "fonction make_regression les dimensions de y ne sont pas \n",
    "complètes.\n",
    "'''\n",
    "y = y.reshape(100,1)\n",
    "print(y.shape)"
   ]
  },
  {
   "cell_type": "code",
   "execution_count": 8,
   "id": "ac104bc1",
   "metadata": {},
   "outputs": [
    {
     "data": {
      "text/plain": [
       "(100, 2)"
      ]
     },
     "execution_count": 8,
     "metadata": {},
     "output_type": "execute_result"
    }
   ],
   "source": [
    "#la matrice X qui contient la colonne de biais ( la colonne 1,1,1...)\n",
    "X = np.hstack((x, np.ones(x.shape)))# cette fonction permet de coller deux matrices numpy de mm nombre de lignes\n",
    "X.shape\n"
   ]
  },
  {
   "cell_type": "code",
   "execution_count": 9,
   "id": "57adbad9",
   "metadata": {},
   "outputs": [
    {
     "data": {
      "text/plain": [
       "array([[ 0.15117084,  1.        ],\n",
       "       [-0.99119617,  1.        ],\n",
       "       [ 1.38354916,  1.        ],\n",
       "       [-0.39257248,  1.        ],\n",
       "       [ 1.19504865,  1.        ],\n",
       "       [-0.26309933,  1.        ],\n",
       "       [-0.15868995,  1.        ],\n",
       "       [ 0.18279557,  1.        ],\n",
       "       [ 2.03698979,  1.        ],\n",
       "       [-0.4088967 ,  1.        ],\n",
       "       [ 0.67952336,  1.        ],\n",
       "       [-0.2874194 ,  1.        ],\n",
       "       [ 0.60918419,  1.        ],\n",
       "       [-1.34961998,  1.        ],\n",
       "       [-0.35409343,  1.        ],\n",
       "       [ 1.62349734,  1.        ],\n",
       "       [-0.32439249,  1.        ],\n",
       "       [-1.8468992 ,  1.        ],\n",
       "       [ 0.32477844,  1.        ],\n",
       "       [ 0.18354124,  1.        ],\n",
       "       [-0.99544059,  1.        ],\n",
       "       [ 0.93397984,  1.        ],\n",
       "       [ 0.36439501,  1.        ],\n",
       "       [ 0.46653081,  1.        ],\n",
       "       [-1.48396705,  1.        ],\n",
       "       [-0.62651073,  1.        ],\n",
       "       [-0.16872648,  1.        ],\n",
       "       [ 1.39466954,  1.        ],\n",
       "       [ 1.01831086,  1.        ],\n",
       "       [-0.01927899,  1.        ],\n",
       "       [ 0.1098944 ,  1.        ],\n",
       "       [-0.13340032,  1.        ],\n",
       "       [ 1.47994517,  1.        ],\n",
       "       [ 1.07581049,  1.        ],\n",
       "       [-0.45508979,  1.        ],\n",
       "       [ 1.32740271,  1.        ],\n",
       "       [-0.98921274,  1.        ],\n",
       "       [ 0.20345378,  1.        ],\n",
       "       [ 2.9198291 ,  1.        ],\n",
       "       [ 1.05315533,  1.        ],\n",
       "       [ 0.09420562,  1.        ],\n",
       "       [ 1.04169762,  1.        ],\n",
       "       [-0.13778202,  1.        ],\n",
       "       [-0.11778788,  1.        ],\n",
       "       [ 0.18874614,  1.        ],\n",
       "       [-0.11368078,  1.        ],\n",
       "       [-0.36318282,  1.        ],\n",
       "       [ 1.02522471,  1.        ],\n",
       "       [-0.56073629,  1.        ],\n",
       "       [ 0.30462703,  1.        ],\n",
       "       [ 0.47841484,  1.        ],\n",
       "       [ 1.1518647 ,  1.        ],\n",
       "       [-0.62213911,  1.        ],\n",
       "       [-0.18688249,  1.        ],\n",
       "       [ 1.20368758,  1.        ],\n",
       "       [-0.3801255 ,  1.        ],\n",
       "       [-1.14473853,  1.        ],\n",
       "       [-0.33743236,  1.        ],\n",
       "       [-0.2251889 ,  1.        ],\n",
       "       [-0.62992159,  1.        ],\n",
       "       [-0.95470708,  1.        ],\n",
       "       [ 0.15090568,  1.        ],\n",
       "       [ 0.53335251,  1.        ],\n",
       "       [-0.60225721,  1.        ],\n",
       "       [-0.12939962,  1.        ],\n",
       "       [ 0.96994116,  1.        ],\n",
       "       [-0.2418743 ,  1.        ],\n",
       "       [ 1.24976388,  1.        ],\n",
       "       [-0.31768078,  1.        ],\n",
       "       [-1.26397684,  1.        ],\n",
       "       [-0.9250927 ,  1.        ],\n",
       "       [ 0.21648018,  1.        ],\n",
       "       [-0.32859609,  1.        ],\n",
       "       [-0.42651009,  1.        ],\n",
       "       [ 0.79186552,  1.        ],\n",
       "       [-2.12529993,  1.        ],\n",
       "       [ 0.2613459 ,  1.        ],\n",
       "       [-0.50062919,  1.        ],\n",
       "       [ 2.00593502,  1.        ],\n",
       "       [-0.10528597,  1.        ],\n",
       "       [-0.50060827,  1.        ],\n",
       "       [-1.24707007,  1.        ],\n",
       "       [-1.01621261,  1.        ],\n",
       "       [ 0.18149001,  1.        ],\n",
       "       [ 0.74030746,  1.        ],\n",
       "       [-1.6211322 ,  1.        ],\n",
       "       [ 1.29691533,  1.        ],\n",
       "       [ 0.26730121,  1.        ],\n",
       "       [ 0.07394156,  1.        ],\n",
       "       [ 1.47485322,  1.        ],\n",
       "       [-2.28442135,  1.        ],\n",
       "       [-0.77582418,  1.        ],\n",
       "       [-1.00902747,  1.        ],\n",
       "       [-1.3713811 ,  1.        ],\n",
       "       [ 0.13899621,  1.        ],\n",
       "       [-1.29116003,  1.        ],\n",
       "       [-0.24939534,  1.        ],\n",
       "       [ 0.20695853,  1.        ],\n",
       "       [-0.62327095,  1.        ],\n",
       "       [-0.269295  ,  1.        ]])"
      ]
     },
     "execution_count": 9,
     "metadata": {},
     "output_type": "execute_result"
    }
   ],
   "source": [
    "X"
   ]
  },
  {
   "cell_type": "code",
   "execution_count": 11,
   "id": "83f9955c",
   "metadata": {},
   "outputs": [
    {
     "data": {
      "text/plain": [
       "(2, 1)"
      ]
     },
     "execution_count": 11,
     "metadata": {},
     "output_type": "execute_result"
    }
   ],
   "source": [
    "#le vecteur theta\n",
    "theta = np.random.randn(2,1)\n",
    "theta.shape"
   ]
  },
  {
   "cell_type": "markdown",
   "id": "c181f267",
   "metadata": {},
   "source": [
    "# 2.Modèle"
   ]
  },
  {
   "cell_type": "code",
   "execution_count": 12,
   "id": "be1f3e96",
   "metadata": {},
   "outputs": [],
   "source": [
    "def model(X, theta):\n",
    "    return X.dot(theta )"
   ]
  },
  {
   "cell_type": "code",
   "execution_count": 17,
   "id": "da70d089",
   "metadata": {},
   "outputs": [
    {
     "data": {
      "text/plain": [
       "[<matplotlib.lines.Line2D at 0x7ff0dea95d00>]"
      ]
     },
     "execution_count": 17,
     "metadata": {},
     "output_type": "execute_result"
    },
    {
     "data": {
      "image/png": "[encoded data removed]",
      "text/plain": [
       "<Figure size 432x288 with 1 Axes>"
      ]
     },
     "metadata": {
      "needs_background": "light"
     },
     "output_type": "display_data"
    }
   ],
   "source": [
    "plt.scatter(x, y)\n",
    "plt.plot(x, model(X, theta), c = 'r')"
   ]
  },
  {
   "cell_type": "code",
   "execution_count": 15,
   "id": "89eca5c8",
   "metadata": {},
   "outputs": [
    {
     "data": {
      "text/plain": [
       "array([[-0.29925118],\n",
       "       [-0.29473442]])"
      ]
     },
     "execution_count": 15,
     "metadata": {},
     "output_type": "execute_result"
    }
   ],
   "source": [
    "theta"
   ]
  },
  {
   "cell_type": "markdown",
   "id": "381fd772",
   "metadata": {},
   "source": [
    "# 3.Fonction cout"
   ]
  },
  {
   "cell_type": "code",
   "execution_count": 18,
   "id": "0932eb47",
   "metadata": {},
   "outputs": [],
   "source": [
    "# l'erreur quadratique moyenne\n",
    "def cost_function(X, y, theta):\n",
    "    m = len(y)\n",
    "    return 1/(2*m) * np.sum((model(X, theta)- y)**2)"
   ]
  },
  {
   "cell_type": "code",
   "execution_count": 19,
   "id": "0759eb9d",
   "metadata": {},
   "outputs": [
    {
     "data": {
      "text/plain": [
       "404.2909456004553"
      ]
     },
     "execution_count": 19,
     "metadata": {},
     "output_type": "execute_result"
    }
   ],
   "source": [
    "cost_function(X, y, theta)"
   ]
  },
  {
   "cell_type": "markdown",
   "id": "7dfc4000",
   "metadata": {},
   "source": [
    "# 4.Descente de gradient"
   ]
  },
  {
   "cell_type": "code",
   "execution_count": 21,
   "id": "0bad30ca",
   "metadata": {},
   "outputs": [],
   "source": [
    "def grad(X, y, theta):\n",
    "    m = len(y)\n",
    "    return 1/(2*m) * X.T.dot(model(X, theta) - y)"
   ]
  },
  {
   "cell_type": "code",
   "execution_count": 31,
   "id": "e9121b2d",
   "metadata": {},
   "outputs": [],
   "source": [
    "def gradient_descent(X, y, theta, learning_rate, n_iterations):\n",
    "    cost_history = np.zeros(n_iterations)\n",
    "    for i in range(0, n_iterations):\n",
    "        theta = theta - learning_rate * grad(X, y, theta)\n",
    "        cost_history[i] = cost_function(X, y, theta)\n",
    "    return theta, cost_history\n",
    "        "
   ]
  },
  {
   "cell_type": "markdown",
   "id": "dd6a23fe",
   "metadata": {},
   "source": [
    "# 5.Entrainement du modèle"
   ]
  },
  {
   "cell_type": "code",
   "execution_count": 47,
   "id": "21c7055e",
   "metadata": {},
   "outputs": [
    {
     "data": {
      "text/plain": [
       "array([[27.1459406 ],\n",
       "       [ 2.70442164]])"
      ]
     },
     "execution_count": 47,
     "metadata": {},
     "output_type": "execute_result"
    }
   ],
   "source": [
    "theta_final, cost_history = gradient_descent(X, y, theta, learning_rate = 0.02, n_iterations = 400 )\n",
    "theta_final"
   ]
  },
  {
   "cell_type": "code",
   "execution_count": 48,
   "id": "4993abc5",
   "metadata": {},
   "outputs": [
    {
     "data": {
      "text/plain": [
       "[<matplotlib.lines.Line2D at 0x7ff0df5cfc70>]"
      ]
     },
     "execution_count": 48,
     "metadata": {},
     "output_type": "execute_result"
    },
    {
     "data": {
      "image/png": "[encoded data removed]",
      "text/plain": [
       "<Figure size 432x288 with 1 Axes>"
      ]
     },
     "metadata": {
      "needs_background": "light"
     },
     "output_type": "display_data"
    }
   ],
   "source": [
    "prediction = model(X, theta_final)\n",
    "plt.scatter(x, y)\n",
    "plt.plot(x, prediction, c='r')"
   ]
  },
  {
   "cell_type": "code",
   "execution_count": 50,
   "id": "55701801",
   "metadata": {},
   "outputs": [
    {
     "data": {
      "text/plain": [
       "[<matplotlib.lines.Line2D at 0x7ff0e3306550>]"
      ]
     },
     "execution_count": 50,
     "metadata": {},
     "output_type": "execute_result"
    },
    {
     "data": {
      "image/png": "[encoded data removed]",
      "text/plain": [
       "<Figure size 432x288 with 1 Axes>"
      ]
     },
     "metadata": {
      "needs_background": "light"
     },
     "output_type": "display_data"
    }
   ],
   "source": [
    "plt.plot(range(400), cost_history)"
   ]
  },
  {
   "cell_type": "markdown",
   "id": "ee96cf6c",
   "metadata": {},
   "source": [
    "# Coefficient de détermination"
   ]
  },
  {
   "cell_type": "code",
   "execution_count": 51,
   "id": "a1081db2",
   "metadata": {},
   "outputs": [],
   "source": [
    "def coef_determination(y, pred):\n",
    "    u = ((y- pred)**2).sum()\n",
    "    v = ((y - y.mean())**2).sum()\n",
    "    return 1 - u/v"
   ]
  },
  {
   "cell_type": "code",
   "execution_count": 52,
   "id": "aa17224b",
   "metadata": {},
   "outputs": [
    {
     "data": {
      "text/plain": [
       "0.8746739342450114"
      ]
     },
     "execution_count": 52,
     "metadata": {},
     "output_type": "execute_result"
    }
   ],
   "source": [
    "coef_determination(y, prediction)"
   ]
  },
  {
   "cell_type": "code",
   "execution_count": null,
   "id": "6097ff71",
   "metadata": {},
   "outputs": [],
   "source": []
  }
 ],
 "metadata": {
  "kernelspec": {
   "display_name": "Python 3 (ipykernel)",
   "language": "python",
   "name": "python3"
  },
  "language_info": {
   "codemirror_mode": {
    "name": "ipython",
    "version": 3
   },
   "file_extension": ".py",
   "mimetype": "text/x-python",
   "name": "python",
   "nbconvert_exporter": "python",
   "pygments_lexer": "ipython3",
   "version": "3.9.12"
  }
 },
 "nbformat": 4,
 "nbformat_minor": 5
}
