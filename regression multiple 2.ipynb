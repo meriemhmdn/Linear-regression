{
 "cells": [
  {
   "cell_type": "code",
   "execution_count": 1,
   "id": "8f143f5a",
   "metadata": {},
   "outputs": [],
   "source": [
    "import numpy as np\n",
    "from sklearn.datasets import make_regression\n",
    "import matplotlib.pyplot as plt"
   ]
  },
  {
   "cell_type": "markdown",
   "id": "efa4c6dc",
   "metadata": {},
   "source": [
    "# 1.DataSet"
   ]
  },
  {
   "cell_type": "code",
   "execution_count": 10,
   "id": "d1fe3f47",
   "metadata": {},
   "outputs": [],
   "source": [
    "x, y = make_regression(n_samples = 100, n_features = 2, noise = 10)"
   ]
  },
  {
   "cell_type": "code",
   "execution_count": 11,
   "id": "3fe04000",
   "metadata": {},
   "outputs": [
    {
     "data": {
      "text/plain": [
       "<matplotlib.collections.PathCollection at 0x7fc4fcea6af0>"
      ]
     },
     "execution_count": 11,
     "metadata": {},
     "output_type": "execute_result"
    },
    {
     "data": {
      "image/png": "[encoded data removed]",
      "text/plain": [
       "<Figure size 432x288 with 1 Axes>"
      ]
     },
     "metadata": {
      "needs_background": "light"
     },
     "output_type": "display_data"
    }
   ],
   "source": [
    "plt.scatter(x[:,0], y)"
   ]
  },
  {
   "cell_type": "code",
   "execution_count": 12,
   "id": "75fbdec4",
   "metadata": {},
   "outputs": [
    {
     "name": "stdout",
     "output_type": "stream",
     "text": [
      "(100, 2)\n",
      "(100, 1)\n"
     ]
    }
   ],
   "source": [
    "print(x.shape)\n",
    "'''\n",
    "on doit redimensionner le vecteur y car quand on utilise la \n",
    "fonction make_regression les dimensions de y ne sont pas \n",
    "complètes.\n",
    "'''\n",
    "y = y.reshape(100,1)\n",
    "print(y.shape)"
   ]
  },
  {
   "cell_type": "code",
   "execution_count": 17,
   "id": "ac104bc1",
   "metadata": {},
   "outputs": [
    {
     "data": {
      "text/plain": [
       "(100, 3)"
      ]
     },
     "execution_count": 17,
     "metadata": {},
     "output_type": "execute_result"
    }
   ],
   "source": [
    "#la matrice X qui contient la colonne de biais ( la colonne 1,1,1...)\n",
    "X = np.hstack((x, np.ones((x.shape[0], 1))))# cette fonction permet de coller deux matrices numpy de mm nombre de lignes\n",
    "X.shape\n"
   ]
  },
  {
   "cell_type": "code",
   "execution_count": 18,
   "id": "57adbad9",
   "metadata": {},
   "outputs": [
    {
     "data": {
      "text/plain": [
       "array([[ 0.9316492 ,  1.43064367,  1.        ],\n",
       "       [-1.17055043,  0.42315907,  1.        ],\n",
       "       [-0.41391197,  0.99396965,  1.        ],\n",
       "       [-0.79724971, -0.26064954,  1.        ],\n",
       "       [-0.04081157,  0.59015328,  1.        ],\n",
       "       [ 0.7354769 , -0.1334625 ,  1.        ],\n",
       "       [ 1.31624246,  1.97980932,  1.        ],\n",
       "       [-2.61489107, -0.13699297,  1.        ],\n",
       "       [ 0.72488392,  0.14131857,  1.        ],\n",
       "       [-2.27103927,  1.00794554,  1.        ],\n",
       "       [ 0.59815908,  0.21187318,  1.        ],\n",
       "       [-0.02551287, -2.21670582,  1.        ],\n",
       "       [-0.74813117, -0.90745013,  1.        ],\n",
       "       [-2.6409473 , -0.33947119,  1.        ],\n",
       "       [ 0.03404316,  1.61473899,  1.        ],\n",
       "       [ 0.96491309, -0.03475313,  1.        ],\n",
       "       [ 0.52701987,  0.34991765,  1.        ],\n",
       "       [ 1.41595281,  0.74978414,  1.        ],\n",
       "       [ 0.2264268 ,  0.19805171,  1.        ],\n",
       "       [ 0.76031606, -1.55439698,  1.        ],\n",
       "       [-0.04317547,  1.16866848,  1.        ],\n",
       "       [ 0.67249539, -0.7439243 ,  1.        ],\n",
       "       [-1.64354917,  1.71008292,  1.        ],\n",
       "       [-0.42427141, -0.93786101,  1.        ],\n",
       "       [-0.79584485, -1.31794839,  1.        ],\n",
       "       [ 0.27787307,  0.3352287 ,  1.        ],\n",
       "       [ 1.85756473,  0.33416524,  1.        ],\n",
       "       [-0.32225452, -1.28991719,  1.        ],\n",
       "       [ 0.12610124,  0.51710787,  1.        ],\n",
       "       [ 0.43475876, -0.39464129,  1.        ],\n",
       "       [ 0.30934314, -0.86384029,  1.        ],\n",
       "       [ 0.62202862, -0.33859048,  1.        ],\n",
       "       [-0.12975864,  0.1066983 ,  1.        ],\n",
       "       [ 1.04950354,  0.83626252,  1.        ],\n",
       "       [-0.12174386,  0.98404362,  1.        ],\n",
       "       [-0.39640095, -1.09822417,  1.        ],\n",
       "       [ 0.41450326,  0.68115378,  1.        ],\n",
       "       [ 1.54864968, -0.57880425,  1.        ],\n",
       "       [-0.8604335 , -1.95118916,  1.        ],\n",
       "       [-1.44298635,  0.01470702,  1.        ],\n",
       "       [ 0.80214241,  0.58068068,  1.        ],\n",
       "       [ 0.63575822, -0.17139641,  1.        ],\n",
       "       [ 2.14571828, -1.77931602,  1.        ],\n",
       "       [ 0.92251088, -0.30836334,  1.        ],\n",
       "       [-0.41148449, -0.67244194,  1.        ],\n",
       "       [ 1.73527035, -0.07574301,  1.        ],\n",
       "       [ 1.17773825,  1.22152046,  1.        ],\n",
       "       [ 0.15042718, -0.37237539,  1.        ],\n",
       "       [-0.4181189 , -1.19078687,  1.        ],\n",
       "       [ 0.16941528, -0.00377979,  1.        ],\n",
       "       [ 1.82653928, -0.21874166,  1.        ],\n",
       "       [-0.29725388, -0.22418799,  1.        ],\n",
       "       [ 2.28079661,  1.03810648,  1.        ],\n",
       "       [-1.17119136, -0.70768576,  1.        ],\n",
       "       [ 1.41047914,  0.5023483 ,  1.        ],\n",
       "       [ 0.22224739,  0.05150955,  1.        ],\n",
       "       [ 0.15275374, -0.47775256,  1.        ],\n",
       "       [-1.01915414,  0.96262885,  1.        ],\n",
       "       [-0.61798389, -0.33616817,  1.        ],\n",
       "       [ 0.86466909,  0.59317184,  1.        ],\n",
       "       [-1.16238903,  0.46107108,  1.        ],\n",
       "       [-1.41104448,  1.33964921,  1.        ],\n",
       "       [-1.18090221,  0.47637293,  1.        ],\n",
       "       [-0.96973735, -2.33220081,  1.        ],\n",
       "       [-1.86700341, -0.83078389,  1.        ],\n",
       "       [-2.19481939,  1.13556974,  1.        ],\n",
       "       [ 1.01412082, -0.70367461,  1.        ],\n",
       "       [-0.5810552 ,  0.74546456,  1.        ],\n",
       "       [ 0.41761131, -0.82528359,  1.        ],\n",
       "       [ 0.11475257, -0.33108384,  1.        ],\n",
       "       [ 1.34799158,  0.98481779,  1.        ],\n",
       "       [ 0.17318869,  0.20557341,  1.        ],\n",
       "       [ 1.17243672,  1.05756016,  1.        ],\n",
       "       [ 1.29442885, -2.06627385,  1.        ],\n",
       "       [-0.78656802,  1.30642513,  1.        ],\n",
       "       [ 0.19582156, -0.35561604,  1.        ],\n",
       "       [ 0.58670738, -0.58648802,  1.        ],\n",
       "       [ 0.27152476, -1.41076741,  1.        ],\n",
       "       [-0.50485004, -0.33465163,  1.        ],\n",
       "       [ 1.185728  , -0.77223277,  1.        ],\n",
       "       [-0.42328757, -0.72875863,  1.        ],\n",
       "       [-0.16624564,  1.73156459,  1.        ],\n",
       "       [ 0.24911161,  0.64714532,  1.        ],\n",
       "       [-0.01301312, -1.28759554,  1.        ],\n",
       "       [-1.62393795, -0.68500457,  1.        ],\n",
       "       [-0.04974776,  0.41973874,  1.        ],\n",
       "       [-0.29777807, -0.69420451,  1.        ],\n",
       "       [ 0.25810019, -0.1502709 ,  1.        ],\n",
       "       [-0.13415676, -0.04675   ,  1.        ],\n",
       "       [-0.51145797,  0.63683004,  1.        ],\n",
       "       [-0.79650498, -0.19967119,  1.        ],\n",
       "       [ 0.17218065, -0.6122289 ,  1.        ],\n",
       "       [-0.17570131,  1.07558552,  1.        ],\n",
       "       [-0.06512951, -0.68082529,  1.        ],\n",
       "       [-0.57918853, -1.15808754,  1.        ],\n",
       "       [-0.86131697, -1.28021405,  1.        ],\n",
       "       [-0.59895178,  0.59861401,  1.        ],\n",
       "       [ 0.14256995,  0.3999145 ,  1.        ],\n",
       "       [-0.45258995, -0.78661475,  1.        ],\n",
       "       [-1.52793007, -0.84354778,  1.        ]])"
      ]
     },
     "execution_count": 18,
     "metadata": {},
     "output_type": "execute_result"
    }
   ],
   "source": [
    "X"
   ]
  },
  {
   "cell_type": "code",
   "execution_count": 20,
   "id": "83f9955c",
   "metadata": {},
   "outputs": [
    {
     "data": {
      "text/plain": [
       "array([[ 1.76758442],\n",
       "       [ 0.39844709],\n",
       "       [-1.12682219]])"
      ]
     },
     "execution_count": 20,
     "metadata": {},
     "output_type": "execute_result"
    }
   ],
   "source": [
    "#le vecteur theta\n",
    "theta = np.random.randn(3,1)\n",
    "theta"
   ]
  },
  {
   "cell_type": "markdown",
   "id": "c181f267",
   "metadata": {},
   "source": [
    "# 2.Modèle"
   ]
  },
  {
   "cell_type": "code",
   "execution_count": 21,
   "id": "be1f3e96",
   "metadata": {},
   "outputs": [],
   "source": [
    "def model(X, theta):\n",
    "    return X.dot(theta )"
   ]
  },
  {
   "cell_type": "code",
   "execution_count": 25,
   "id": "da70d089",
   "metadata": {},
   "outputs": [
    {
     "data": {
      "text/plain": [
       "<matplotlib.collections.PathCollection at 0x7fc50150cc70>"
      ]
     },
     "execution_count": 25,
     "metadata": {},
     "output_type": "execute_result"
    },
    {
     "data": {
      "image/png": "[encoded data removed]",
      "text/plain": [
       "<Figure size 432x288 with 1 Axes>"
      ]
     },
     "metadata": {
      "needs_background": "light"
     },
     "output_type": "display_data"
    }
   ],
   "source": [
    "plt.scatter(x[:, 0], y)\n",
    "plt.scatter(x[:, 0], model(X, theta), c = 'r')"
   ]
  },
  {
   "cell_type": "code",
   "execution_count": 26,
   "id": "89eca5c8",
   "metadata": {},
   "outputs": [
    {
     "data": {
      "text/plain": [
       "array([[ 1.76758442],\n",
       "       [ 0.39844709],\n",
       "       [-1.12682219]])"
      ]
     },
     "execution_count": 26,
     "metadata": {},
     "output_type": "execute_result"
    }
   ],
   "source": [
    "theta"
   ]
  },
  {
   "cell_type": "markdown",
   "id": "381fd772",
   "metadata": {},
   "source": [
    "# 3.Fonction cout"
   ]
  },
  {
   "cell_type": "code",
   "execution_count": 27,
   "id": "0932eb47",
   "metadata": {},
   "outputs": [],
   "source": [
    "# l'erreur quadratique moyenne\n",
    "def cost_function(X, y, theta):\n",
    "    m = len(y)\n",
    "    return 1/(2*m) * np.sum((model(X, theta)- y)**2)"
   ]
  },
  {
   "cell_type": "code",
   "execution_count": 28,
   "id": "0759eb9d",
   "metadata": {},
   "outputs": [
    {
     "data": {
      "text/plain": [
       "4876.617078434506"
      ]
     },
     "execution_count": 28,
     "metadata": {},
     "output_type": "execute_result"
    }
   ],
   "source": [
    "cost_function(X, y, theta)"
   ]
  },
  {
   "cell_type": "markdown",
   "id": "7dfc4000",
   "metadata": {},
   "source": [
    "# 4.Descente de gradient"
   ]
  },
  {
   "cell_type": "code",
   "execution_count": 29,
   "id": "0bad30ca",
   "metadata": {},
   "outputs": [],
   "source": [
    "def grad(X, y, theta):\n",
    "    m = len(y)\n",
    "    return 1/(2*m) * X.T.dot(model(X, theta) - y)"
   ]
  },
  {
   "cell_type": "code",
   "execution_count": 30,
   "id": "e9121b2d",
   "metadata": {},
   "outputs": [],
   "source": [
    "def gradient_descent(X, y, theta, learning_rate, n_iterations):\n",
    "    cost_history = np.zeros(n_iterations)\n",
    "    for i in range(0, n_iterations):\n",
    "        theta = theta - learning_rate * grad(X, y, theta)\n",
    "        cost_history[i] = cost_function(X, y, theta)\n",
    "    return theta, cost_history\n",
    "        "
   ]
  },
  {
   "cell_type": "markdown",
   "id": "dd6a23fe",
   "metadata": {},
   "source": [
    "# 5.Entrainement du modèle"
   ]
  },
  {
   "cell_type": "code",
   "execution_count": 36,
   "id": "21c7055e",
   "metadata": {},
   "outputs": [
    {
     "data": {
      "text/plain": [
       "array([[98.52774732],\n",
       "       [11.08579747],\n",
       "       [ 1.30527318]])"
      ]
     },
     "execution_count": 36,
     "metadata": {},
     "output_type": "execute_result"
    }
   ],
   "source": [
    "theta_final, cost_history = gradient_descent(X, y, theta, learning_rate = 0.02, n_iterations = 1000 )\n",
    "theta_final"
   ]
  },
  {
   "cell_type": "code",
   "execution_count": 37,
   "id": "4993abc5",
   "metadata": {},
   "outputs": [
    {
     "data": {
      "text/plain": [
       "<matplotlib.collections.PathCollection at 0x7fc50180ff70>"
      ]
     },
     "execution_count": 37,
     "metadata": {},
     "output_type": "execute_result"
    },
    {
     "data": {
      "image/png": "[encoded data removed]",
      "text/plain": [
       "<Figure size 432x288 with 1 Axes>"
      ]
     },
     "metadata": {
      "needs_background": "light"
     },
     "output_type": "display_data"
    }
   ],
   "source": [
    "prediction = model(X, theta_final)\n",
    "plt.scatter(x[:, 0], y)\n",
    "plt.scatter(x[:, 0], prediction, c='r')"
   ]
  },
  {
   "cell_type": "code",
   "execution_count": 38,
   "id": "cdacf9cb",
   "metadata": {},
   "outputs": [
    {
     "data": {
      "text/plain": [
       "<matplotlib.collections.PathCollection at 0x7fc5019605b0>"
      ]
     },
     "execution_count": 38,
     "metadata": {},
     "output_type": "execute_result"
    },
    {
     "data": {
      "image/png": "[encoded data removed]",
      "text/plain": [
       "<Figure size 432x288 with 1 Axes>"
      ]
     },
     "metadata": {
      "needs_background": "light"
     },
     "output_type": "display_data"
    }
   ],
   "source": [
    "plt.scatter(x[:, 1], y)\n",
    "plt.scatter(x[:, 1], prediction, c='r')"
   ]
  },
  {
   "cell_type": "code",
   "execution_count": 41,
   "id": "a29ec1ad",
   "metadata": {},
   "outputs": [
    {
     "data": {
      "text/plain": [
       "<mpl_toolkits.mplot3d.art3d.Path3DCollection at 0x7fc501ca12e0>"
      ]
     },
     "execution_count": 41,
     "metadata": {},
     "output_type": "execute_result"
    },
    {
     "data": {
      "image/png": "[encoded data removed]",
      "text/plain": [
       "<Figure size 432x288 with 1 Axes>"
      ]
     },
     "metadata": {
      "needs_background": "light"
     },
     "output_type": "display_data"
    }
   ],
   "source": [
    "fig = plt.figure()\n",
    "ax = fig.add_subplot(111, projection='3d')\n",
    "\n",
    "ax.scatter(x[:,0], x[:,1], y)\n",
    "ax.scatter(x[:,0], x[:,1], prediction)"
   ]
  },
  {
   "cell_type": "code",
   "execution_count": 42,
   "id": "55701801",
   "metadata": {},
   "outputs": [
    {
     "data": {
      "text/plain": [
       "[<matplotlib.lines.Line2D at 0x7fc501d529a0>]"
      ]
     },
     "execution_count": 42,
     "metadata": {},
     "output_type": "execute_result"
    },
    {
     "data": {
      "image/png": "[encoded data removed]",
      "text/plain": [
       "<Figure size 432x288 with 1 Axes>"
      ]
     },
     "metadata": {
      "needs_background": "light"
     },
     "output_type": "display_data"
    }
   ],
   "source": [
    "plt.plot(range(1000), cost_history)"
   ]
  },
  {
   "cell_type": "markdown",
   "id": "ee96cf6c",
   "metadata": {},
   "source": [
    "# Coefficient de détermination"
   ]
  },
  {
   "cell_type": "code",
   "execution_count": 43,
   "id": "a1081db2",
   "metadata": {},
   "outputs": [],
   "source": [
    "def coef_determination(y, pred):\n",
    "    u = ((y- pred)**2).sum()\n",
    "    v = ((y - y.mean())**2).sum()\n",
    "    return 1 - u/v"
   ]
  },
  {
   "cell_type": "code",
   "execution_count": 44,
   "id": "aa17224b",
   "metadata": {},
   "outputs": [
    {
     "data": {
      "text/plain": [
       "0.9906348810491017"
      ]
     },
     "execution_count": 44,
     "metadata": {},
     "output_type": "execute_result"
    }
   ],
   "source": [
    "coef_determination(y, prediction)"
   ]
  },
  {
   "cell_type": "code",
   "execution_count": null,
   "id": "6097ff71",
   "metadata": {},
   "outputs": [],
   "source": []
  },
  {
   "cell_type": "code",
   "execution_count": null,
   "id": "c611d124",
   "metadata": {},
   "outputs": [],
   "source": []
  }
 ],
 "metadata": {
  "kernelspec": {
   "display_name": "Python 3 (ipykernel)",
   "language": "python",
   "name": "python3"
  },
  "language_info": {
   "codemirror_mode": {
    "name": "ipython",
    "version": 3
   },
   "file_extension": ".py",
   "mimetype": "text/x-python",
   "name": "python",
   "nbconvert_exporter": "python",
   "pygments_lexer": "ipython3",
   "version": "3.9.12"
  }
 },
 "nbformat": 4,
 "nbformat_minor": 5
}
