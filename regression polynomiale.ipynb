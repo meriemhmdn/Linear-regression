{
 "cells": [
  {
   "cell_type": "code",
   "execution_count": 1,
   "id": "c60dcc66",
   "metadata": {},
   "outputs": [],
   "source": [
    "import numpy as np\n",
    "from sklearn.datasets import make_regression\n",
    "import matplotlib.pyplot as plt"
   ]
  },
  {
   "cell_type": "markdown",
   "id": "03f95ba2",
   "metadata": {},
   "source": [
    "# 1. Dataset"
   ]
  },
  {
   "cell_type": "code",
   "execution_count": 6,
   "id": "4ac3a129",
   "metadata": {},
   "outputs": [],
   "source": [
    "x, y = make_regression(n_samples = 100, n_features = 1, noise = 10)\n",
    "y = y + abs(y/2)"
   ]
  },
  {
   "cell_type": "code",
   "execution_count": 7,
   "id": "7cb02174",
   "metadata": {},
   "outputs": [
    {
     "data": {
      "text/plain": [
       "<matplotlib.collections.PathCollection at 0x7fd53cba38e0>"
      ]
     },
     "execution_count": 7,
     "metadata": {},
     "output_type": "execute_result"
    },
    {
     "data": {
      "image/png": "[encoded data removed]",
      "text/plain": [
       "<Figure size 432x288 with 1 Axes>"
      ]
     },
     "metadata": {
      "needs_background": "light"
     },
     "output_type": "display_data"
    }
   ],
   "source": [
    "plt.scatter(x, y)"
   ]
  },
  {
   "cell_type": "code",
   "execution_count": 8,
   "id": "ca35cd0d",
   "metadata": {},
   "outputs": [
    {
     "name": "stdout",
     "output_type": "stream",
     "text": [
      "(100, 1)\n",
      "(100, 1)\n"
     ]
    }
   ],
   "source": [
    "print(x.shape)\n",
    "'''\n",
    "on doit redimensionner le vecteur y car quand on utilise la \n",
    "fonction make_regression les dimensions de y ne sont pas \n",
    "complètes.\n",
    "'''\n",
    "y = y.reshape(100,1)\n",
    "print(y.shape)"
   ]
  },
  {
   "cell_type": "code",
   "execution_count": 9,
   "id": "4a8f3558",
   "metadata": {},
   "outputs": [
    {
     "data": {
      "text/plain": [
       "array([[ 2.26889608e-01,  4.76329306e-01,  1.00000000e+00],\n",
       "       [ 2.19758824e-01,  4.68784411e-01,  1.00000000e+00],\n",
       "       [ 4.53220698e+00, -2.12889807e+00,  1.00000000e+00],\n",
       "       [ 2.75471235e-02, -1.65973261e-01,  1.00000000e+00],\n",
       "       [ 2.59000142e+00,  1.60934813e+00,  1.00000000e+00],\n",
       "       [ 1.40821991e+00,  1.18668442e+00,  1.00000000e+00],\n",
       "       [ 2.01274133e+00, -1.41871115e+00,  1.00000000e+00],\n",
       "       [ 7.61690730e-01,  8.72748950e-01,  1.00000000e+00],\n",
       "       [ 3.76031142e-02, -1.93915224e-01,  1.00000000e+00],\n",
       "       [ 3.85324833e+00, -1.96296926e+00,  1.00000000e+00],\n",
       "       [ 2.78424684e+00, -1.66860626e+00,  1.00000000e+00],\n",
       "       [ 7.98938131e-01, -8.93833391e-01,  1.00000000e+00],\n",
       "       [ 1.60850417e+00, -1.26826818e+00,  1.00000000e+00],\n",
       "       [ 2.09114682e-01, -4.57290588e-01,  1.00000000e+00],\n",
       "       [ 1.57916800e-01, -3.97387469e-01,  1.00000000e+00],\n",
       "       [ 1.71959934e+00, -1.31133495e+00,  1.00000000e+00],\n",
       "       [ 2.22546449e-02,  1.49179908e-01,  1.00000000e+00],\n",
       "       [ 1.96624051e+00, -1.40222698e+00,  1.00000000e+00],\n",
       "       [ 3.63430920e-03, -6.02852321e-02,  1.00000000e+00],\n",
       "       [ 2.86369999e-01, -5.35135496e-01,  1.00000000e+00],\n",
       "       [ 4.41851071e+00, -2.10202538e+00,  1.00000000e+00],\n",
       "       [ 3.03468279e+00,  1.74203410e+00,  1.00000000e+00],\n",
       "       [ 2.57891976e-01, -5.07830657e-01,  1.00000000e+00],\n",
       "       [ 1.10632383e+00,  1.05181929e+00,  1.00000000e+00],\n",
       "       [ 4.78130086e-01,  6.91469512e-01,  1.00000000e+00],\n",
       "       [ 1.43168490e+00, -1.19653036e+00,  1.00000000e+00],\n",
       "       [ 8.97287135e-03, -9.47252414e-02,  1.00000000e+00],\n",
       "       [ 1.08082081e-01, -3.28758394e-01,  1.00000000e+00],\n",
       "       [ 5.25629663e-01, -7.25003216e-01,  1.00000000e+00],\n",
       "       [ 1.34387180e+00, -1.15925485e+00,  1.00000000e+00],\n",
       "       [ 1.18821671e+00, -1.09005353e+00,  1.00000000e+00],\n",
       "       [ 1.33209712e-02, -1.15416512e-01,  1.00000000e+00],\n",
       "       [ 1.62720707e+00, -1.27562027e+00,  1.00000000e+00],\n",
       "       [ 2.43943502e+00, -1.56186908e+00,  1.00000000e+00],\n",
       "       [ 7.21249355e-02, -2.68560860e-01,  1.00000000e+00],\n",
       "       [ 4.68361627e-03, -6.84369510e-02,  1.00000000e+00],\n",
       "       [ 3.26568148e-01,  5.71461414e-01,  1.00000000e+00],\n",
       "       [ 1.11397520e+00, -1.05545024e+00,  1.00000000e+00],\n",
       "       [ 3.49468348e-01,  5.91158479e-01,  1.00000000e+00],\n",
       "       [ 3.29976582e-04, -1.81652576e-02,  1.00000000e+00],\n",
       "       [ 2.25399999e-01, -4.74763098e-01,  1.00000000e+00],\n",
       "       [ 4.12990170e-01,  6.42643112e-01,  1.00000000e+00],\n",
       "       [ 1.19939404e-01,  3.46322687e-01,  1.00000000e+00],\n",
       "       [ 2.57433249e+00,  1.60447265e+00,  1.00000000e+00],\n",
       "       [ 1.54856054e-01,  3.93517539e-01,  1.00000000e+00],\n",
       "       [ 4.93053935e-04,  2.22048178e-02,  1.00000000e+00],\n",
       "       [ 4.09984759e-02, -2.02480804e-01,  1.00000000e+00],\n",
       "       [ 1.19886392e+00, -1.09492645e+00,  1.00000000e+00],\n",
       "       [ 1.19191734e+00, -1.09174967e+00,  1.00000000e+00],\n",
       "       [ 2.46919823e-03,  4.96910277e-02,  1.00000000e+00],\n",
       "       [ 1.18218301e+00,  1.08728240e+00,  1.00000000e+00],\n",
       "       [ 2.22030177e+00,  1.49006771e+00,  1.00000000e+00],\n",
       "       [ 1.58450380e-01, -3.98058263e-01,  1.00000000e+00],\n",
       "       [ 1.11444169e+00, -1.05567120e+00,  1.00000000e+00],\n",
       "       [ 1.76111079e-01,  4.19655906e-01,  1.00000000e+00],\n",
       "       [ 2.48179231e+00,  1.57537053e+00,  1.00000000e+00],\n",
       "       [ 2.55682966e-01,  5.05651032e-01,  1.00000000e+00],\n",
       "       [ 2.19395277e+00,  1.48119977e+00,  1.00000000e+00],\n",
       "       [ 1.86734169e+00,  1.36650711e+00,  1.00000000e+00],\n",
       "       [ 9.72081495e-02,  3.11782215e-01,  1.00000000e+00],\n",
       "       [ 1.63930614e+00, -1.28035391e+00,  1.00000000e+00],\n",
       "       [ 2.05710994e-02, -1.43426285e-01,  1.00000000e+00],\n",
       "       [ 8.13568586e-02,  2.85231237e-01,  1.00000000e+00],\n",
       "       [ 3.61510205e+00, -1.90134217e+00,  1.00000000e+00],\n",
       "       [ 5.39155714e-02,  2.32197268e-01,  1.00000000e+00],\n",
       "       [ 1.38677991e-02,  1.17761620e-01,  1.00000000e+00],\n",
       "       [ 9.59177645e-01,  9.79376151e-01,  1.00000000e+00],\n",
       "       [ 1.01787015e+00, -1.00889551e+00,  1.00000000e+00],\n",
       "       [ 3.41570361e-01, -5.84440212e-01,  1.00000000e+00],\n",
       "       [ 1.70994956e-04, -1.30765040e-02,  1.00000000e+00],\n",
       "       [ 3.19263859e-01, -5.65034387e-01,  1.00000000e+00],\n",
       "       [ 1.28415755e+00,  1.13320675e+00,  1.00000000e+00],\n",
       "       [ 1.55412441e+00,  1.24664526e+00,  1.00000000e+00],\n",
       "       [ 3.06408139e-01,  5.53541452e-01,  1.00000000e+00],\n",
       "       [ 1.76487395e+00,  1.32848559e+00,  1.00000000e+00],\n",
       "       [ 1.83236256e-01, -4.28061042e-01,  1.00000000e+00],\n",
       "       [ 1.67341511e-02,  1.29360547e-01,  1.00000000e+00],\n",
       "       [ 7.05165403e-01,  8.39741271e-01,  1.00000000e+00],\n",
       "       [ 1.26528803e+00,  1.12485023e+00,  1.00000000e+00],\n",
       "       [ 1.83826039e-02,  1.35582462e-01,  1.00000000e+00],\n",
       "       [ 3.26122792e+00,  1.80588702e+00,  1.00000000e+00],\n",
       "       [ 9.02115511e-02,  3.00352378e-01,  1.00000000e+00],\n",
       "       [ 8.17486934e-04,  2.85917284e-02,  1.00000000e+00],\n",
       "       [ 1.69174858e-02,  1.30067236e-01,  1.00000000e+00],\n",
       "       [ 9.92398205e-01, -9.96191852e-01,  1.00000000e+00],\n",
       "       [ 2.14074424e+00,  1.46312824e+00,  1.00000000e+00],\n",
       "       [ 6.08622685e-01, -7.80142734e-01,  1.00000000e+00],\n",
       "       [ 1.82477711e+00,  1.35084311e+00,  1.00000000e+00],\n",
       "       [ 1.05398359e+00, -1.02663703e+00,  1.00000000e+00],\n",
       "       [ 6.20903721e-02, -2.49179398e-01,  1.00000000e+00],\n",
       "       [ 4.24311872e-02, -2.05988318e-01,  1.00000000e+00],\n",
       "       [ 2.91616254e-01, -5.40015050e-01,  1.00000000e+00],\n",
       "       [ 1.45809669e+00, -1.20751675e+00,  1.00000000e+00],\n",
       "       [ 3.10042573e-01, -5.56814666e-01,  1.00000000e+00],\n",
       "       [ 5.33731255e+00,  2.31026244e+00,  1.00000000e+00],\n",
       "       [ 1.05280796e-01,  3.24470023e-01,  1.00000000e+00],\n",
       "       [ 3.84057596e-01,  6.19723806e-01,  1.00000000e+00],\n",
       "       [ 1.60084488e+00, -1.26524499e+00,  1.00000000e+00],\n",
       "       [ 3.82543134e-01,  6.18500714e-01,  1.00000000e+00],\n",
       "       [ 1.04408872e-04, -1.02180659e-02,  1.00000000e+00]])"
      ]
     },
     "execution_count": 9,
     "metadata": {},
     "output_type": "execute_result"
    }
   ],
   "source": [
    "#la matrice X qui contient la colonne de biais ( la colonne 1,1,1...)\n",
    "X = np.hstack((x, np.ones(x.shape)))# cette fonction permet de coller deux matrices numpy de mm nombre de lignes\n",
    "X = np.hstack((x**2, X))\n",
    "X\n"
   ]
  },
  {
   "cell_type": "code",
   "execution_count": 10,
   "id": "10b4a700",
   "metadata": {},
   "outputs": [
    {
     "data": {
      "text/plain": [
       "(100, 3)"
      ]
     },
     "execution_count": 10,
     "metadata": {},
     "output_type": "execute_result"
    }
   ],
   "source": [
    "X.shape"
   ]
  },
  {
   "cell_type": "code",
   "execution_count": 11,
   "id": "6ebced65",
   "metadata": {},
   "outputs": [
    {
     "data": {
      "text/plain": [
       "(3, 1)"
      ]
     },
     "execution_count": 11,
     "metadata": {},
     "output_type": "execute_result"
    }
   ],
   "source": [
    "#le vecteur theta\n",
    "theta = np.random.randn(3,1)\n",
    "theta.shape"
   ]
  },
  {
   "cell_type": "code",
   "execution_count": 14,
   "id": "97c64f2f",
   "metadata": {},
   "outputs": [
    {
     "data": {
      "text/plain": [
       "array([[-2.02740169],\n",
       "       [-0.66236305],\n",
       "       [ 1.03734439]])"
      ]
     },
     "execution_count": 14,
     "metadata": {},
     "output_type": "execute_result"
    }
   ],
   "source": [
    "theta"
   ]
  },
  {
   "cell_type": "markdown",
   "id": "e06c55ed",
   "metadata": {},
   "source": [
    "# 2.Le modèle"
   ]
  },
  {
   "cell_type": "code",
   "execution_count": 23,
   "id": "a4ca8cd7",
   "metadata": {},
   "outputs": [],
   "source": [
    "def model(X, theta):\n",
    "    return X.dot(theta)"
   ]
  },
  {
   "cell_type": "code",
   "execution_count": 43,
   "id": "d55c4a2b",
   "metadata": {},
   "outputs": [
    {
     "data": {
      "text/plain": [
       "<matplotlib.collections.PathCollection at 0x7fd5422d0910>"
      ]
     },
     "execution_count": 43,
     "metadata": {},
     "output_type": "execute_result"
    },
    {
     "data": {
      "image/png": "[encoded data removed]",
      "text/plain": [
       "<Figure size 432x288 with 1 Axes>"
      ]
     },
     "metadata": {
      "needs_background": "light"
     },
     "output_type": "display_data"
    }
   ],
   "source": [
    "plt.scatter(x, y)\n",
    "plt.scatter(x, model(X, theta), c = 'r')"
   ]
  },
  {
   "cell_type": "code",
   "execution_count": 25,
   "id": "27ec8206",
   "metadata": {},
   "outputs": [],
   "source": [
    "# l'erreur quadratique moyenne\n",
    "def cost_function(X, y, theta):\n",
    "    m = len(y)\n",
    "    return 1/(2*m) * np.sum((model(X, theta)- y)**2)"
   ]
  },
  {
   "cell_type": "code",
   "execution_count": 26,
   "id": "55993710",
   "metadata": {},
   "outputs": [
    {
     "data": {
      "text/plain": [
       "5979.106271189504"
      ]
     },
     "execution_count": 26,
     "metadata": {},
     "output_type": "execute_result"
    }
   ],
   "source": [
    "cost_function(X, y, theta)"
   ]
  },
  {
   "cell_type": "markdown",
   "id": "961b6989",
   "metadata": {},
   "source": [
    "# 4.Descente de gradient"
   ]
  },
  {
   "cell_type": "code",
   "execution_count": 27,
   "id": "ba483d82",
   "metadata": {},
   "outputs": [],
   "source": [
    "def grad(X, y, theta):\n",
    "    m = len(y)\n",
    "    return 1/(2*m) * X.T.dot(model(X, theta) - y)"
   ]
  },
  {
   "cell_type": "code",
   "execution_count": 28,
   "id": "37b74b0f",
   "metadata": {},
   "outputs": [],
   "source": [
    "def gradient_descent(X, y, theta, learning_rate, n_iterations):\n",
    "    cost_history = np.zeros(n_iterations)\n",
    "    for i in range(0, n_iterations):\n",
    "        theta = theta - learning_rate * grad(X, y, theta)\n",
    "        cost_history[i] = cost_function(X, y, theta)\n",
    "    return theta, cost_history\n",
    "        "
   ]
  },
  {
   "cell_type": "markdown",
   "id": "2656111e",
   "metadata": {},
   "source": [
    "# 5.Entrainement du modèle"
   ]
  },
  {
   "cell_type": "code",
   "execution_count": 36,
   "id": "d5031883",
   "metadata": {},
   "outputs": [
    {
     "data": {
      "text/plain": [
       "array([[24.05410948],\n",
       "       [99.4656444 ],\n",
       "       [14.70548033]])"
      ]
     },
     "execution_count": 36,
     "metadata": {},
     "output_type": "execute_result"
    }
   ],
   "source": [
    "theta_final, cost_history = gradient_descent(X, y, theta, learning_rate = 0.01, n_iterations = 1000 )\n",
    "theta_final"
   ]
  },
  {
   "cell_type": "code",
   "execution_count": 45,
   "id": "ea316ae9",
   "metadata": {},
   "outputs": [
    {
     "data": {
      "text/plain": [
       "<matplotlib.collections.PathCollection at 0x7fd54249ebb0>"
      ]
     },
     "execution_count": 45,
     "metadata": {},
     "output_type": "execute_result"
    },
    {
     "data": {
      "image/png": "[encoded data removed]",
      "text/plain": [
       "<Figure size 432x288 with 1 Axes>"
      ]
     },
     "metadata": {
      "needs_background": "light"
     },
     "output_type": "display_data"
    }
   ],
   "source": [
    "prediction = model(X, theta_final)\n",
    "plt.scatter(x[:,0], y)\n",
    "plt.scatter(x[:,0], prediction, c='r')"
   ]
  },
  {
   "cell_type": "code",
   "execution_count": 46,
   "id": "f9dc7142",
   "metadata": {},
   "outputs": [
    {
     "data": {
      "text/plain": [
       "[<matplotlib.lines.Line2D at 0x7fd54258a460>]"
      ]
     },
     "execution_count": 46,
     "metadata": {},
     "output_type": "execute_result"
    },
    {
     "data": {
      "image/png": "[encoded data removed]",
      "text/plain": [
       "<Figure size 432x288 with 1 Axes>"
      ]
     },
     "metadata": {
      "needs_background": "light"
     },
     "output_type": "display_data"
    }
   ],
   "source": [
    "plt.plot(range(1000), cost_history)"
   ]
  },
  {
   "cell_type": "code",
   "execution_count": 47,
   "id": "52319569",
   "metadata": {},
   "outputs": [],
   "source": [
    "def coef_determination(y, pred):\n",
    "    u = ((y- pred)**2).sum()\n",
    "    v = ((y - y.mean())**2).sum()\n",
    "    return 1 - u/v"
   ]
  },
  {
   "cell_type": "code",
   "execution_count": 48,
   "id": "6e450787",
   "metadata": {},
   "outputs": [
    {
     "data": {
      "text/plain": [
       "0.9832006564566671"
      ]
     },
     "execution_count": 48,
     "metadata": {},
     "output_type": "execute_result"
    }
   ],
   "source": [
    "coef_determination(y, prediction)"
   ]
  },
  {
   "cell_type": "code",
   "execution_count": null,
   "id": "99f73896",
   "metadata": {},
   "outputs": [],
   "source": []
  }
 ],
 "metadata": {
  "kernelspec": {
   "display_name": "Python 3 (ipykernel)",
   "language": "python",
   "name": "python3"
  },
  "language_info": {
   "codemirror_mode": {
    "name": "ipython",
    "version": 3
   },
   "file_extension": ".py",
   "mimetype": "text/x-python",
   "name": "python",
   "nbconvert_exporter": "python",
   "pygments_lexer": "ipython3",
   "version": "3.9.12"
  }
 },
 "nbformat": 4,
 "nbformat_minor": 5
}
